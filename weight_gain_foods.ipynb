{
  "nbformat": 4,
  "nbformat_minor": 0,
  "metadata": {
    "colab": {
      "name": "weight-gain-foods.ipynb",
      "provenance": [],
      "include_colab_link": true
    },
    "kernelspec": {
      "name": "python3",
      "display_name": "Python 3"
    }
  },
  "cells": [
    {
      "cell_type": "markdown",
      "metadata": {
        "id": "view-in-github",
        "colab_type": "text"
      },
      "source": [
        "<a href=\"https://colab.research.google.com/github/noahgift/intermittent-fasting/blob/master/weight_gain_foods.ipynb\" target=\"_parent\"><img src=\"https://colab.research.google.com/assets/colab-badge.svg\" alt=\"Open In Colab\"/></a>"
      ]
    },
    {
      "cell_type": "markdown",
      "metadata": {
        "id": "iTDuRRJ3YYLo",
        "colab_type": "text"
      },
      "source": [
        "## Weight Gain/Loss Foods (NHS Study)\n"
      ]
    },
    {
      "cell_type": "markdown",
      "metadata": {
        "id": "owbLQxAsb4aQ",
        "colab_type": "text"
      },
      "source": [
        "### EDA"
      ]
    },
    {
      "cell_type": "code",
      "metadata": {
        "id": "0ok5hR5yYUgI",
        "colab_type": "code",
        "colab": {}
      },
      "source": [
        "import pandas as pd\n",
        "import seaborn as sns\n",
        "import matplotlib.pyplot as plt"
      ],
      "execution_count": 0,
      "outputs": []
    },
    {
      "cell_type": "code",
      "metadata": {
        "id": "onBVBuc8YcWG",
        "colab_type": "code",
        "colab": {
          "base_uri": "https://localhost:8080/",
          "height": 296
        },
        "outputId": "5e195970-8561-482a-b59b-ca41f7df03d6"
      },
      "source": [
        "df = pd.read_csv(\"https://raw.githubusercontent.com/noahgift/intermittent-fasting/master/nhs-foods.csv\")\n",
        "df.head()"
      ],
      "execution_count": 2,
      "outputs": [
        {
          "output_type": "execute_result",
          "data": {
            "text/html": [
              "<div>\n",
              "<style scoped>\n",
              "    .dataframe tbody tr th:only-of-type {\n",
              "        vertical-align: middle;\n",
              "    }\n",
              "\n",
              "    .dataframe tbody tr th {\n",
              "        vertical-align: top;\n",
              "    }\n",
              "\n",
              "    .dataframe thead th {\n",
              "        text-align: right;\n",
              "    }\n",
              "</style>\n",
              "<table border=\"1\" class=\"dataframe\">\n",
              "  <thead>\n",
              "    <tr style=\"text-align: right;\">\n",
              "      <th></th>\n",
              "      <th>food</th>\n",
              "      <th>4-year-change-per-serving-day-lb</th>\n",
              "      <th>glycemic-index</th>\n",
              "      <th>calories-100g-240ml</th>\n",
              "      <th>carbs</th>\n",
              "      <th>protein</th>\n",
              "      <th>fat</th>\n",
              "      <th>sodium-mg</th>\n",
              "      <th>fiber</th>\n",
              "      <th>url</th>\n",
              "    </tr>\n",
              "  </thead>\n",
              "  <tbody>\n",
              "    <tr>\n",
              "      <th>0</th>\n",
              "      <td>potato chip</td>\n",
              "      <td>1.69</td>\n",
              "      <td>56.0</td>\n",
              "      <td>536.0</td>\n",
              "      <td>57.14</td>\n",
              "      <td>7.14</td>\n",
              "      <td>7.14</td>\n",
              "      <td>429.0</td>\n",
              "      <td>3.6</td>\n",
              "      <td>https://fdc.nal.usda.gov/fdc-app.html#/food-de...</td>\n",
              "    </tr>\n",
              "    <tr>\n",
              "      <th>1</th>\n",
              "      <td>french fries (McDONALD'S)</td>\n",
              "      <td>3.35</td>\n",
              "      <td>63.0</td>\n",
              "      <td>323.0</td>\n",
              "      <td>42.58</td>\n",
              "      <td>3.41</td>\n",
              "      <td>15.47</td>\n",
              "      <td>189.0</td>\n",
              "      <td>3.9</td>\n",
              "      <td>https://fdc.nal.usda.gov/fdc-app.html#/food-de...</td>\n",
              "    </tr>\n",
              "    <tr>\n",
              "      <th>2</th>\n",
              "      <td>boiled, baked, or mashed potatoes</td>\n",
              "      <td>0.57</td>\n",
              "      <td>85.0</td>\n",
              "      <td>89.0</td>\n",
              "      <td>14.65</td>\n",
              "      <td>1.65</td>\n",
              "      <td>2.82</td>\n",
              "      <td>306.0</td>\n",
              "      <td>1.3</td>\n",
              "      <td>https://fdc.nal.usda.gov/fdc-app.html#/food-de...</td>\n",
              "    </tr>\n",
              "    <tr>\n",
              "      <th>3</th>\n",
              "      <td>refined grains (white bread/flour)</td>\n",
              "      <td>0.39</td>\n",
              "      <td>75.0</td>\n",
              "      <td>279.0</td>\n",
              "      <td>14.00</td>\n",
              "      <td>9.30</td>\n",
              "      <td>3.49</td>\n",
              "      <td>558.0</td>\n",
              "      <td>2.3</td>\n",
              "      <td>https://fdc.nal.usda.gov/fdc-app.html#/food-de...</td>\n",
              "    </tr>\n",
              "    <tr>\n",
              "      <th>4</th>\n",
              "      <td>sweets and deserts (ice cream choc)</td>\n",
              "      <td>0.41</td>\n",
              "      <td>51.0</td>\n",
              "      <td>216.0</td>\n",
              "      <td>28.20</td>\n",
              "      <td>3.80</td>\n",
              "      <td>11.00</td>\n",
              "      <td>76.0</td>\n",
              "      <td>1.2</td>\n",
              "      <td>https://fdc.nal.usda.gov/fdc-app.html#/food-de...</td>\n",
              "    </tr>\n",
              "  </tbody>\n",
              "</table>\n",
              "</div>"
            ],
            "text/plain": [
              "                                  food  ...                                                url\n",
              "0                          potato chip  ...  https://fdc.nal.usda.gov/fdc-app.html#/food-de...\n",
              "1            french fries (McDONALD'S)  ...  https://fdc.nal.usda.gov/fdc-app.html#/food-de...\n",
              "2    boiled, baked, or mashed potatoes  ...  https://fdc.nal.usda.gov/fdc-app.html#/food-de...\n",
              "3   refined grains (white bread/flour)  ...  https://fdc.nal.usda.gov/fdc-app.html#/food-de...\n",
              "4  sweets and deserts (ice cream choc)  ...  https://fdc.nal.usda.gov/fdc-app.html#/food-de...\n",
              "\n",
              "[5 rows x 10 columns]"
            ]
          },
          "metadata": {
            "tags": []
          },
          "execution_count": 2
        }
      ]
    },
    {
      "cell_type": "code",
      "metadata": {
        "id": "UckOddidYfs-",
        "colab_type": "code",
        "colab": {
          "base_uri": "https://localhost:8080/",
          "height": 284
        },
        "outputId": "954d1e98-05a7-46cb-9230-e652c0fdf83e"
      },
      "source": [
        "df.corr()"
      ],
      "execution_count": 3,
      "outputs": [
        {
          "output_type": "execute_result",
          "data": {
            "text/html": [
              "<div>\n",
              "<style scoped>\n",
              "    .dataframe tbody tr th:only-of-type {\n",
              "        vertical-align: middle;\n",
              "    }\n",
              "\n",
              "    .dataframe tbody tr th {\n",
              "        vertical-align: top;\n",
              "    }\n",
              "\n",
              "    .dataframe thead th {\n",
              "        text-align: right;\n",
              "    }\n",
              "</style>\n",
              "<table border=\"1\" class=\"dataframe\">\n",
              "  <thead>\n",
              "    <tr style=\"text-align: right;\">\n",
              "      <th></th>\n",
              "      <th>4-year-change-per-serving-day-lb</th>\n",
              "      <th>glycemic-index</th>\n",
              "      <th>calories-100g-240ml</th>\n",
              "      <th>carbs</th>\n",
              "      <th>protein</th>\n",
              "      <th>fat</th>\n",
              "      <th>sodium-mg</th>\n",
              "      <th>fiber</th>\n",
              "    </tr>\n",
              "  </thead>\n",
              "  <tbody>\n",
              "    <tr>\n",
              "      <th>4-year-change-per-serving-day-lb</th>\n",
              "      <td>1.000000</td>\n",
              "      <td>0.175454</td>\n",
              "      <td>0.238164</td>\n",
              "      <td>0.563404</td>\n",
              "      <td>-0.006180</td>\n",
              "      <td>-0.044574</td>\n",
              "      <td>0.231039</td>\n",
              "      <td>0.095640</td>\n",
              "    </tr>\n",
              "    <tr>\n",
              "      <th>glycemic-index</th>\n",
              "      <td>0.175454</td>\n",
              "      <td>1.000000</td>\n",
              "      <td>-0.464994</td>\n",
              "      <td>0.569849</td>\n",
              "      <td>-0.627321</td>\n",
              "      <td>-0.652826</td>\n",
              "      <td>-0.357359</td>\n",
              "      <td>0.217795</td>\n",
              "    </tr>\n",
              "    <tr>\n",
              "      <th>calories-100g-240ml</th>\n",
              "      <td>0.238164</td>\n",
              "      <td>-0.464994</td>\n",
              "      <td>1.000000</td>\n",
              "      <td>0.092463</td>\n",
              "      <td>0.315562</td>\n",
              "      <td>0.857887</td>\n",
              "      <td>0.340655</td>\n",
              "      <td>0.348545</td>\n",
              "    </tr>\n",
              "    <tr>\n",
              "      <th>carbs</th>\n",
              "      <td>0.563404</td>\n",
              "      <td>0.569849</td>\n",
              "      <td>0.092463</td>\n",
              "      <td>1.000000</td>\n",
              "      <td>-0.335677</td>\n",
              "      <td>-0.322496</td>\n",
              "      <td>-0.247176</td>\n",
              "      <td>0.454230</td>\n",
              "    </tr>\n",
              "    <tr>\n",
              "      <th>protein</th>\n",
              "      <td>-0.006180</td>\n",
              "      <td>-0.627321</td>\n",
              "      <td>0.315562</td>\n",
              "      <td>-0.335677</td>\n",
              "      <td>1.000000</td>\n",
              "      <td>0.267202</td>\n",
              "      <td>0.312937</td>\n",
              "      <td>-0.046021</td>\n",
              "    </tr>\n",
              "    <tr>\n",
              "      <th>fat</th>\n",
              "      <td>-0.044574</td>\n",
              "      <td>-0.652826</td>\n",
              "      <td>0.857887</td>\n",
              "      <td>-0.322496</td>\n",
              "      <td>0.267202</td>\n",
              "      <td>1.000000</td>\n",
              "      <td>0.328243</td>\n",
              "      <td>0.188631</td>\n",
              "    </tr>\n",
              "    <tr>\n",
              "      <th>sodium-mg</th>\n",
              "      <td>0.231039</td>\n",
              "      <td>-0.357359</td>\n",
              "      <td>0.340655</td>\n",
              "      <td>-0.247176</td>\n",
              "      <td>0.312937</td>\n",
              "      <td>0.328243</td>\n",
              "      <td>1.000000</td>\n",
              "      <td>-0.279001</td>\n",
              "    </tr>\n",
              "    <tr>\n",
              "      <th>fiber</th>\n",
              "      <td>0.095640</td>\n",
              "      <td>0.217795</td>\n",
              "      <td>0.348545</td>\n",
              "      <td>0.454230</td>\n",
              "      <td>-0.046021</td>\n",
              "      <td>0.188631</td>\n",
              "      <td>-0.279001</td>\n",
              "      <td>1.000000</td>\n",
              "    </tr>\n",
              "  </tbody>\n",
              "</table>\n",
              "</div>"
            ],
            "text/plain": [
              "                                  4-year-change-per-serving-day-lb  ...     fiber\n",
              "4-year-change-per-serving-day-lb                          1.000000  ...  0.095640\n",
              "glycemic-index                                            0.175454  ...  0.217795\n",
              "calories-100g-240ml                                       0.238164  ...  0.348545\n",
              "carbs                                                     0.563404  ...  0.454230\n",
              "protein                                                  -0.006180  ... -0.046021\n",
              "fat                                                      -0.044574  ...  0.188631\n",
              "sodium-mg                                                 0.231039  ... -0.279001\n",
              "fiber                                                     0.095640  ...  1.000000\n",
              "\n",
              "[8 rows x 8 columns]"
            ]
          },
          "metadata": {
            "tags": []
          },
          "execution_count": 3
        }
      ]
    },
    {
      "cell_type": "code",
      "metadata": {
        "id": "NOh81hM7Yh6d",
        "colab_type": "code",
        "colab": {
          "base_uri": "https://localhost:8080/",
          "height": 767
        },
        "outputId": "aedf5d63-c2f2-4bdc-d97b-4a6526d2c082"
      },
      "source": [
        "fig, ax = plt.subplots(figsize=(10,10))\n",
        "sns.heatmap(df.corr(), annot=True, linewidths=.5, ax=ax)"
      ],
      "execution_count": 8,
      "outputs": [
        {
          "output_type": "execute_result",
          "data": {
            "text/plain": [
              "<matplotlib.axes._subplots.AxesSubplot at 0x7fb2ce8d1b38>"
            ]
          },
          "metadata": {
            "tags": []
          },
          "execution_count": 8
        },
        {
          "output_type": "display_data",
          "data": {
            "image/png": "[encoded data removed]",
            "text/plain": [
              "<Figure size 720x720 with 2 Axes>"
            ]
          },
          "metadata": {
            "tags": []
          }
        }
      ]
    },
    {
      "cell_type": "code",
      "metadata": {
        "id": "aP67uka3cBn4",
        "colab_type": "code",
        "colab": {}
      },
      "source": [
        ""
      ],
      "execution_count": 0,
      "outputs": []
    },
    {
      "cell_type": "markdown",
      "metadata": {
        "id": "0iPkt_iodoCJ",
        "colab_type": "text"
      },
      "source": [
        "## Conclusion"
      ]
    },
    {
      "cell_type": "markdown",
      "metadata": {
        "id": "ubqcnuDmdqwl",
        "colab_type": "text"
      },
      "source": [
        "There doesn't appear to be widespread adoption of Data Science approach to some of the new things discovered in Nutritional Science in the last decade.\n",
        "\n",
        "In looking at the NHS study and expanding it Nutritional components there are some clear patterns that emerge:\n",
        "\n",
        "* https://www.ncbi.nlm.nih.gov/pmc/articles/PMC3151731/\n",
        "* https://fdc.nal.usda.gov/\n",
        "\n",
        "A.  High Carbohydrate foods appear to be the strongest correlation with weight gain.\n",
        "\n",
        "B.  Fat and Protein are essentially neutral\n",
        "\n",
        "C.  Total Calories and glycemic index are equally as correlated with weight gain.\n",
        "\n",
        "One firm conclusion would be to **avoid calorically dense, high carbohydrate foods that have a high glycemic index:  i.e. French Fries**.\n",
        "\n",
        "\n"
      ]
    },
    {
      "cell_type": "code",
      "metadata": {
        "id": "UcQv0qV4e-xq",
        "colab_type": "code",
        "colab": {}
      },
      "source": [
        ""
      ],
      "execution_count": 0,
      "outputs": []
    }
  ]
}